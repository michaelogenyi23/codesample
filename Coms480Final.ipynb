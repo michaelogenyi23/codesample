{
  "nbformat": 4,
  "nbformat_minor": 0,
  "metadata": {
    "colab": {
      "provenance": [],
      "include_colab_link": true
    },
    "kernelspec": {
      "name": "python3",
      "display_name": "Python 3"
    },
    "language_info": {
      "name": "python"
    }
  },
  "cells": [
    {
      "cell_type": "markdown",
      "metadata": {
        "id": "view-in-github",
        "colab_type": "text"
      },
      "source": [
        "<a href=\"https://colab.research.google.com/github/michaelogenyi23/codesample/blob/main/Coms480Final.ipynb\" target=\"_parent\"><img src=\"https://colab.research.google.com/assets/colab-badge.svg\" alt=\"Open In Colab\"/></a>"
      ]
    },
    {
      "cell_type": "code",
      "execution_count": null,
      "metadata": {
        "colab": {
          "base_uri": "https://localhost:8080/"
        },
        "id": "cbA7Bs-YeVYj",
        "outputId": "adde53ce-a9e9-486f-8e0f-f61018de1976"
      },
      "outputs": [
        {
          "output_type": "stream",
          "name": "stderr",
          "text": [
            "IOPub data rate exceeded.\n",
            "The notebook server will temporarily stop sending output\n",
            "to the client in order to avoid crashing it.\n",
            "To change this limit, set the config variable\n",
            "`--NotebookApp.iopub_data_rate_limit`.\n",
            "\n",
            "Current values:\n",
            "NotebookApp.iopub_data_rate_limit=1000000.0 (bytes/sec)\n",
            "NotebookApp.rate_limit_window=3.0 (secs)\n",
            "\n"
          ]
        }
      ],
      "source": [
        "import random\n",
        "def gameOver(s):\n",
        "    # returns True if the game is over, otherwise False\n",
        "    if '.' not in s:\n",
        "        return True\n",
        "    else:\n",
        "        rows = [[0,1,2],[3,4,5],[6,7,8],[0,3,6],[1,4,7],[2,5,8],[0,4,8],[6,4,2]]\n",
        "        rowValues = [\"\".join(s[k] for k in row) for row in rows]\n",
        "        if \"XXX\" in rowValues or \"OOO\" in rowValues:\n",
        "            return True\n",
        "        else:\n",
        "            return False\n",
        "\n",
        "def generateAllStates():\n",
        "    # returns a list with all possible state strings for tic-tac-toe\n",
        "    states = [\"\"]\n",
        "    for i in range(9):\n",
        "        states = [s + c for c in ['X','O','.'] for s in states]\n",
        "    return states\n",
        "\n",
        "def replaceCharacter(s, position, replacement):\n",
        "    # returns a new string where the character in s at position is replaced with replacement\n",
        "    #print(s, position, replacement)\n",
        "    return s[:position]+replacement+s[(position+1):]\n",
        "\n",
        "def generateInitialState():\n",
        "\n",
        "    states = [\"\"]\n",
        "    for i in range(9):\n",
        "        states = [s + c for c in ['.'] for s in states]\n",
        "    return states\n",
        "\n",
        "def rewards(s):\n",
        "      rows = [[0,1,2],[3,4,5],[6,7,8],[0,3,6],[1,4,7],[2,5,8],[0,4,8],[6,4,2]]\n",
        "      rowValues = [\"\".join(s[k] for k in row) for row in rows]\n",
        "      if \"XXX\" in rowValues:\n",
        "         return 1\n",
        "      elif \"OOO\" in rowValues:\n",
        "        return -1\n",
        "      else:\n",
        "        return 0\n",
        "\n",
        "def transitionFunc(s,a):\n",
        "    numbers =[i for i in range(9) if i != a and s[i] == '.']\n",
        "    #random_number = random.choices(numbers)\n",
        "    #print(random_number)\n",
        "    if gameOver(s) == True:\n",
        "      return s\n",
        "\n",
        "    if s[a] == '.':\n",
        "        s = replaceCharacter(s,a,'X')\n",
        "        if gameOver(s):\n",
        "          return s\n",
        "\n",
        "        if numbers:\n",
        "          s = replaceCharacter(s,random.choices(numbers)[0],'O')\n",
        "          if gameOver(s) == True:\n",
        "            return s\n",
        "    return s\n",
        "\n",
        "\n",
        "states = generateAllStates()\n",
        "#print(states)\n",
        "acktion = [0,1,2,3,4,5,6,7,8]\n",
        "#actions = random.choices(acktion)\n",
        "Q = {(s, ac): 0 for s in states for ac in acktion}\n",
        "#print(Q)\n",
        "\n",
        "def episode(epsilon):\n",
        "  s = \".........\"\n",
        "  while gameOver(s) != True:\n",
        "        a = epsilonGreedyAction(s,epsilon) # pick an action\n",
        "        s2 = transitionFunc(s, a)\n",
        "        Q[s,a] += 0.2 * (rewards(s) + 0.9*max(Q[s2,a2] for a2 in acktion) - Q[s,a])\n",
        "        s = s2\n",
        "  Q[s,a] += 0.2 * (rewards(s) - Q[s,a])\n",
        "  return rewards(s)\n",
        "\n",
        "def bestAction(a, s, Q):\n",
        "  maxVal = max([Q[s,a] for a in acktion])\n",
        "  bestActions = [a for a in acktion if Q[s,a] == maxVal]\n",
        "  return random.choice(bestActions)\n",
        "\n",
        "\n",
        "def epsilonGreedyAction(s, epsilon):\n",
        "  if random.random() < epsilon:\n",
        "    return random.choice(acktion)\n",
        "  else:\n",
        "    #action = bestAction(acktion, s, Q)\n",
        "    return bestAction(acktion, s, Q)\n",
        "def interface():\n",
        "  se = \".........\"\n",
        "  print(\"Welcome to Tic Tac Toe\")\n",
        "\n",
        "  print(s[0],\"|\",s[1],\"|\", s[2],\"\\n\",\n",
        "        \"-------------\",\"\\n\",\n",
        "        s[3],\"|\",s[4],\"|\", s[5],\"\\n\",\n",
        "        \"--------------------\",\"\\n\",\n",
        "        s[6],\"|\",s[7],\"|\", s[8],\"\\n\",)\n",
        "\n",
        "for i in range(1000):\n",
        "  episode(0)\n",
        "  #print(episode(0))\n",
        "print(Q)\n",
        "#print(interface())"
      ]
    },
    {
      "cell_type": "markdown",
      "source": [
        "#example#"
      ],
      "metadata": {
        "id": "mplyYPCuAyqp"
      }
    },
    {
      "cell_type": "code",
      "source": [
        "import random\n",
        "\n",
        "numbers = [i for i in range(9) if i != 7]\n",
        "select_Random = random.choices(numbers)\n",
        "print(select_Random)"
      ],
      "metadata": {
        "colab": {
          "base_uri": "https://localhost:8080/"
        },
        "id": "DtRdGYTp_ilp",
        "outputId": "ea863a0a-8cc4-4f17-de56-984c8333764a"
      },
      "execution_count": null,
      "outputs": [
        {
          "output_type": "stream",
          "name": "stdout",
          "text": [
            "[0]\n"
          ]
        }
      ]
    },
    {
      "cell_type": "code",
      "source": [
        "def generateInitialState():\n",
        "    # returns a list with all possible state strings for tic-tac-toe\n",
        "    states = [\"\"]\n",
        "    for i in range(9):\n",
        "        states = [s + c for c in ['.'] for s in states]\n",
        "    return states\n",
        "s = \".........\"\n",
        "s=s[:3]+'X'+s[(3+1):]\n",
        "s=s[:2]+'O'+s[(2+1):]\n",
        "s=s[:5]+'X'+s[(5+1):]\n",
        "s=s[:8]+'0'+s[(8+1):]\n",
        "\n",
        "\n",
        "print(s)"
      ],
      "metadata": {
        "colab": {
          "base_uri": "https://localhost:8080/"
        },
        "id": "fr6FEtOJPJss",
        "outputId": "5d7acb33-5689-44fe-f801-963c937bd84a"
      },
      "execution_count": null,
      "outputs": [
        {
          "output_type": "stream",
          "name": "stdout",
          "text": [
            "..OX.X..0\n"
          ]
        }
      ]
    }
  ]
}