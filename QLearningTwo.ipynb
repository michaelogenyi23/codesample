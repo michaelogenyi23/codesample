{
  "nbformat": 4,
  "nbformat_minor": 0,
  "metadata": {
    "colab": {
      "provenance": [],
      "include_colab_link": true
    },
    "kernelspec": {
      "name": "python3",
      "display_name": "Python 3"
    },
    "language_info": {
      "name": "python"
    }
  },
  "cells": [
    {
      "cell_type": "markdown",
      "metadata": {
        "id": "view-in-github",
        "colab_type": "text"
      },
      "source": [
        "<a href=\"https://colab.research.google.com/github/michaelogenyi23/codesample/blob/main/QLearningTwo.ipynb\" target=\"_parent\"><img src=\"https://colab.research.google.com/assets/colab-badge.svg\" alt=\"Open In Colab\"/></a>"
      ]
    },
    {
      "cell_type": "code",
      "execution_count": null,
      "metadata": {
        "colab": {
          "base_uri": "https://localhost:8080/",
          "height": 315
        },
        "id": "Fig7Fn87TR8w",
        "outputId": "e12fc953-3327-4adc-98a7-79910945c8d4"
      },
      "outputs": [
        {
          "output_type": "display_data",
          "data": {
            "text/plain": [
              "<IPython.core.display.HTML object>"
            ],
            "text/html": [
              "\n",
              "    <center>\n",
              "    <table style='border: 1px solid black;border-collapse: collapse;'>\n",
              "      <tr><td  width= 96 height=96 style='border: 1px solid black;border-collapse: collapse; text-align:center;'>{'up': 0.0, 'down': 0, 'left': 0.0, 'right': 0.0}</td><td  width= 96 height=96 style='border: 1px solid black;border-collapse: collapse; text-align:center;'>{'up': 0, 'down': 0, 'left': 0, 'right': 0.0}</td><td  width= 96 height=96 style='border: 1px solid black;border-collapse: collapse; text-align:center;'>{'up': 0, 'down': 0, 'left': 0, 'right': 0.0}</td><td  width= 96 height=96 style='border: 1px solid black;border-collapse: collapse; text-align:center; background-color:darkgreen;'>{'up': 0, 'down': 0, 'left': 0, 'right': 0.5}</td></tr>\n",
              "      <tr><td  width= 96 height=96 style='border: 1px solid black;border-collapse: collapse; text-align:center;'>{'up': 0.0, 'down': 0, 'left': 0.0, 'right': 0.0}</td><td  width= 96 height=96 style='border: 1px solid black;border-collapse: collapse; text-align:center; background-color:gray;'></td><td  width= 96 height=96 style='border: 1px solid black;border-collapse: collapse; text-align:center;'>{'up': 0, 'down': 0, 'left': 0, 'right': 0}</td><td  width= 96 height=96 style='border: 1px solid black;border-collapse: collapse; text-align:center; background-color:red;'>{'up': 0, 'down': 0, 'left': 0, 'right': 0}</td></tr>\n",
              "      <tr><td  width= 96 height=96 style='border: 1px solid black;border-collapse: collapse; text-align:center;'>{'up': 0.0, 'down': 0, 'left': 0, 'right': 0}</td><td  width= 96 height=96 style='border: 1px solid black;border-collapse: collapse; text-align:center;'>{'up': 0, 'down': 0, 'left': 0, 'right': 0}</td><td  width= 96 height=96 style='border: 1px solid black;border-collapse: collapse; text-align:center;'>{'up': 0, 'down': 0, 'left': 0, 'right': 0}</td><td  width= 96 height=96 style='border: 1px solid black;border-collapse: collapse; text-align:center;'>{'up': 0, 'down': 0, 'left': 0, 'right': 0}</td></tr>\n",
              "    </table></center>"
            ]
          },
          "metadata": {}
        }
      ],
      "source": [
        "import numpy as np\n",
        "import random\n",
        "from IPython.display import HTML, display\n",
        "\n",
        "def printTable(data):\n",
        "    style = \"border: 1px solid black;border-collapse: collapse; text-align:center;\"\n",
        "    dims = \" width= 96 height=96\"\n",
        "    table = f\"\"\"\n",
        "    <center>\n",
        "    <table style='border: 1px solid black;border-collapse: collapse;'>\n",
        "      <tr><td {dims} style='{style}'>{data[0]}</td><td {dims} style='{style}'>{data[1]}</td><td {dims} style='{style}'>{data[2]}</td><td {dims} style='{style} background-color:darkgreen;'>{data[3]}</td></tr>\n",
        "      <tr><td {dims} style='{style}'>{data[4]}</td><td {dims} style='{style} background-color:gray;'></td><td {dims} style='{style}'>{data[5]}</td><td {dims} style='{style} background-color:red;'>{data[6]}</td></tr>\n",
        "      <tr><td {dims} style='{style}'>{data[7]}</td><td {dims} style='{style}'>{data[8]}</td><td {dims} style='{style}'>{data[9]}</td><td {dims} style='{style}'>{data[10]}</td></tr>\n",
        "    </table></center>\"\"\"\n",
        "    display(HTML(table))\n",
        "\n",
        "\n",
        "alpha = 0.5 # learning rate\n",
        "epsilon = 0.2 # probability of choosing a random action instead of the current best action\n",
        "discount = 0.9 # discount rate\n",
        "\n",
        "states = [(row, col) for row in range(3) for col in range(4) if (row, col) != (1,1)]\n",
        "actions = [\"up\", \"down\", \"left\", \"right\"]\n",
        "Qtable = {(s,a): 0 for s in states for a in actions}\n",
        "def reward(s):\n",
        "    if s == (0,3):\n",
        "        return 1\n",
        "    elif s == (1,3):\n",
        "        return -1\n",
        "    else:\n",
        "        return 0\n",
        "\n",
        "def transitionFunction(states, s,a):\n",
        "    # returns the next state (with randomness)\n",
        "    if s in [(0,3),(1,3)]:\n",
        "        return s\n",
        "    row, col = s\n",
        "    above = (row-1, col) if (row-1,col) in states else s\n",
        "    below =  (row+1, col) if (row+1,col) in states else s\n",
        "    left = (row, col-1) if (row, col-1) in states else s\n",
        "    right = (row, col+1) if (row, col+1) in states else s\n",
        "    if a == \"up\":\n",
        "        return random.choice([above]*8+[left, right])\n",
        "    if a == \"down\":\n",
        "        return random.choice([below]*8+[left, right])\n",
        "    if a == \"left\":\n",
        "        return random.choice([left]*8+[above, below])\n",
        "    if a == \"right\":\n",
        "        return random.choice([right]*8+[above, below])\n",
        "    print(\"Invalid action.\")\n",
        "\n",
        "def optimalMove(actions, s, Q):\n",
        "    # consult the q-table Q to find the optimal action.\n",
        "    maxVal = max([Q[s,a] for a in actions])\n",
        "    bestActions = [a for a in actions if Q[s,a] == maxVal]\n",
        "    return random.choice(bestActions)\n",
        "\n",
        "def move(actions, s, Q, epsilon):\n",
        "    # use the epsilon-greedy algorithm to pick next move.\n",
        "    if random.random() < epsilon:\n",
        "        return random.choice(actions)\n",
        "    else:\n",
        "        return optimalMove(actions, s, Q)\n",
        "\n",
        "def episode(states, actions, Q):\n",
        "    # run one episode, updating the Q-table as you go.\n",
        "    s = (2,0) # the start state\n",
        "    finalStates = [(0,3),(1,3)]\n",
        "    while s not in finalStates:\n",
        "        a = move(actions, s, Q, epsilon) # pick an action\n",
        "        s2 = transitionFunction(states, s, a)\n",
        "        Q[s,a] += alpha * (reward(s) + discount*max(Q[s2,a2] for a2 in actions) - Q[s,a])\n",
        "        s = s2\n",
        "    # Once you finish the while loop, s will be one of the final actions, so there are no next actions to take and the Q-table update function is just the following:\n",
        "    Q[s,a] += alpha * (reward(s) - Q[s,a])\n",
        "\n",
        "for i in range(1):\n",
        "    episode(states, actions, Qtable)\n",
        "\n",
        "printTable([{a:np.round(Qtable[s,a],2) for a in actions} for s in states])\n",
        "\n"
      ]
    },
    {
      "cell_type": "code",
      "source": [
        "for i in range(10000):\n",
        "    episode(states, actions, Qtable)\n",
        "printTable([{a:np.round(Qtable[s,a],2) for a in actions} for s in states])\n"
      ],
      "metadata": {
        "colab": {
          "base_uri": "https://localhost:8080/",
          "height": 315
        },
        "id": "xeiwEpTK5mxH",
        "outputId": "ce2eedc8-0298-4447-9238-91c6cacedb57"
      },
      "execution_count": null,
      "outputs": [
        {
          "output_type": "display_data",
          "data": {
            "text/plain": [
              "<IPython.core.display.HTML object>"
            ],
            "text/html": [
              "\n",
              "    <center>\n",
              "    <table style='border: 1px solid black;border-collapse: collapse;'>\n",
              "      <tr><td  width= 96 height=96 style='border: 1px solid black;border-collapse: collapse; text-align:center;'>{'up': 0.64, 'down': 0.5, 'left': 0.58, 'right': 0.63}</td><td  width= 96 height=96 style='border: 1px solid black;border-collapse: collapse; text-align:center;'>{'up': 0.62, 'down': 0.62, 'left': 0.64, 'right': 0.6}</td><td  width= 96 height=96 style='border: 1px solid black;border-collapse: collapse; text-align:center;'>{'up': 0.59, 'down': 0.54, 'left': 0.6, 'right': 0.76}</td><td  width= 96 height=96 style='border: 1px solid black;border-collapse: collapse; text-align:center; background-color:darkgreen;'>{'up': 1.0, 'down': 1.0, 'left': 0, 'right': 1.0}</td></tr>\n",
              "      <tr><td  width= 96 height=96 style='border: 1px solid black;border-collapse: collapse; text-align:center;'>{'up': 0.62, 'down': 0.46, 'left': 0.51, 'right': 0.49}</td><td  width= 96 height=96 style='border: 1px solid black;border-collapse: collapse; text-align:center; background-color:gray;'></td><td  width= 96 height=96 style='border: 1px solid black;border-collapse: collapse; text-align:center;'>{'up': 0.63, 'down': -0.36, 'left': 0.4, 'right': -0.9}</td><td  width= 96 height=96 style='border: 1px solid black;border-collapse: collapse; text-align:center; background-color:red;'>{'up': -1.0, 'down': -1.0, 'left': -1.0, 'right': -1.0}</td></tr>\n",
              "      <tr><td  width= 96 height=96 style='border: 1px solid black;border-collapse: collapse; text-align:center;'>{'up': 0.56, 'down': 0.44, 'left': 0.44, 'right': 0.39}</td><td  width= 96 height=96 style='border: 1px solid black;border-collapse: collapse; text-align:center;'>{'up': 0.25, 'down': 0.34, 'left': 0.46, 'right': 0.3}</td><td  width= 96 height=96 style='border: 1px solid black;border-collapse: collapse; text-align:center;'>{'up': 0.22, 'down': 0.19, 'left': 0.37, 'right': 0.19}</td><td  width= 96 height=96 style='border: 1px solid black;border-collapse: collapse; text-align:center;'>{'up': -0.9, 'down': 0.2, 'left': -0.46, 'right': -0.53}</td></tr>\n",
              "    </table></center>"
            ]
          },
          "metadata": {}
        }
      ]
    },
    {
      "cell_type": "code",
      "source": [
        "printTable([optimalMove(actions,s,Qtable) for s in states])"
      ],
      "metadata": {
        "colab": {
          "base_uri": "https://localhost:8080/",
          "height": 314
        },
        "id": "e-4MXAO4T4S-",
        "outputId": "adcdac4e-bd4b-442a-bacf-6bebfc4f9c6e"
      },
      "execution_count": null,
      "outputs": [
        {
          "output_type": "display_data",
          "data": {
            "text/plain": [
              "<IPython.core.display.HTML object>"
            ],
            "text/html": [
              "\n",
              "    <center>\n",
              "    <table style='border: 1px solid black;border-collapse: collapse;'>\n",
              "      <tr><td  width= 96 height=96 style='border: 1px solid black;border-collapse: collapse; text-align:center;'>up</td><td  width= 96 height=96 style='border: 1px solid black;border-collapse: collapse; text-align:center;'>up</td><td  width= 96 height=96 style='border: 1px solid black;border-collapse: collapse; text-align:center;'>right</td><td  width= 96 height=96 style='border: 1px solid black;border-collapse: collapse; text-align:center; background-color:darkgreen;'>right</td></tr>\n",
              "      <tr><td  width= 96 height=96 style='border: 1px solid black;border-collapse: collapse; text-align:center;'>up</td><td  width= 96 height=96 style='border: 1px solid black;border-collapse: collapse; text-align:center; background-color:gray;'></td><td  width= 96 height=96 style='border: 1px solid black;border-collapse: collapse; text-align:center;'>left</td><td  width= 96 height=96 style='border: 1px solid black;border-collapse: collapse; text-align:center; background-color:red;'>left</td></tr>\n",
              "      <tr><td  width= 96 height=96 style='border: 1px solid black;border-collapse: collapse; text-align:center;'>up</td><td  width= 96 height=96 style='border: 1px solid black;border-collapse: collapse; text-align:center;'>left</td><td  width= 96 height=96 style='border: 1px solid black;border-collapse: collapse; text-align:center;'>left</td><td  width= 96 height=96 style='border: 1px solid black;border-collapse: collapse; text-align:center;'>down</td></tr>\n",
              "    </table></center>"
            ]
          },
          "metadata": {}
        }
      ]
    },
    {
      "cell_type": "code",
      "source": [],
      "metadata": {
        "id": "r2JL_l6jUnEe"
      },
      "execution_count": null,
      "outputs": []
    }
  ]
}