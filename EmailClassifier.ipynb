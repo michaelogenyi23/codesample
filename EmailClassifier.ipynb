{
  "nbformat": 4,
  "nbformat_minor": 0,
  "metadata": {
    "colab": {
      "provenance": [],
      "include_colab_link": true
    },
    "kernelspec": {
      "name": "python3",
      "display_name": "Python 3"
    },
    "language_info": {
      "name": "python"
    }
  },
  "cells": [
    {
      "cell_type": "markdown",
      "metadata": {
        "id": "view-in-github",
        "colab_type": "text"
      },
      "source": [
        "<a href=\"https://colab.research.google.com/github/michaelogenyi23/codesample/blob/main/EmailClassifier.ipynb\" target=\"_parent\"><img src=\"https://colab.research.google.com/assets/colab-badge.svg\" alt=\"Open In Colab\"/></a>"
      ]
    },
    {
      "cell_type": "markdown",
      "source": [
        "# Email Classifier"
      ],
      "metadata": {
        "id": "87ZnT9IYR1cr"
      }
    },
    {
      "cell_type": "code",
      "source": [
        "import numpy as np\n",
        "import pandas as pd\n",
        "import random"
      ],
      "metadata": {
        "id": "CqOFmdFGR3ma"
      },
      "execution_count": null,
      "outputs": []
    },
    {
      "cell_type": "markdown",
      "source": [
        "### Importing the Data\n",
        "\n",
        "Below we import the data from 3920 emails.  We want to use this data to train a linear classifier that predicts if an e-mail is spam based on things like how many times the word password or viagra appears in the e-mail. We also look at whether there are exclaimation points in the subject line, whether the e-mail has attachments, and some other features."
      ],
      "metadata": {
        "id": "M9NCqfV6Tbcu"
      }
    },
    {
      "cell_type": "code",
      "source": [
        "df = pd.read_excel(\"http://people.hsc.edu/faculty-staff/blins/StatsExamples/email.xlsx\")\n",
        "input_variables = ['to_multiple','cc','attach','dollar','winner','inherit','viagra','password','re_subj','exclaim_subj']\n",
        "X = df[input_variables].to_numpy() # Create a numpy array with the data from the columns corresponding to predictor variables.\n",
        "X = np.hstack((np.ones((len(X),1)),X)) # Add a column with all ones to the matrix X.\n",
        "y = 2*df['spam'].to_numpy()-1 # Make a vector y which has entry +1 when an e-mail is spam and -1 when it is not.\n",
        "print(df)"
      ],
      "metadata": {
        "id": "To1fXqrxUCTl",
        "colab": {
          "base_uri": "https://localhost:8080/"
        },
        "outputId": "86c2eb26-a5e0-4ff1-9528-477406dea8e3"
      },
      "execution_count": null,
      "outputs": [
        {
          "output_type": "stream",
          "name": "stderr",
          "text": [
            "/usr/local/lib/python3.10/dist-packages/openpyxl/styles/stylesheet.py:226: UserWarning: Workbook contains no default style, apply openpyxl's default\n",
            "  warn(\"Workbook contains no default style, apply openpyxl's default\")\n"
          ]
        },
        {
          "output_type": "stream",
          "name": "stdout",
          "text": [
            "      spam  to_multiple  cc  attach  dollar  winner  inherit  viagra  \\\n",
            "0        0            0   0       0       0       0        0       0   \n",
            "1        0            0   0       0       0       0        0       0   \n",
            "2        0            0   0       0       4       0        1       0   \n",
            "3        0            0   0       0       0       0        0       0   \n",
            "4        0            0   0       0       0       0        0       0   \n",
            "...    ...          ...  ..     ...     ...     ...      ...     ...   \n",
            "3916     1            0   0       0       0       0        0       0   \n",
            "3917     1            0   0       0       1       0        0       0   \n",
            "3918     0            1   0       0       0       0        0       0   \n",
            "3919     0            1   0       0       0       0        0       0   \n",
            "3920     1            0   0       0       2       1        0       0   \n",
            "\n",
            "      password  re_subj  exclaim_subj  \n",
            "0            0        0             0  \n",
            "1            0        0             0  \n",
            "2            0        0             0  \n",
            "3            0        0             0  \n",
            "4            2        0             0  \n",
            "...        ...      ...           ...  \n",
            "3916         0        0             0  \n",
            "3917         0        0             0  \n",
            "3918         0        0             0  \n",
            "3919         0        0             0  \n",
            "3920         0        0             1  \n",
            "\n",
            "[3921 rows x 11 columns]\n"
          ]
        }
      ]
    },
    {
      "cell_type": "markdown",
      "source": [
        "### Loss Functions and Their Gradients"
      ],
      "metadata": {
        "id": "nNH1_Wy5TP94"
      }
    },
    {
      "cell_type": "code",
      "source": [
        "def hingeLoss(w, x, y):\n",
        "    margin = y*(w @ x)\n",
        "    if margin < 1:\n",
        "        return 1-margin\n",
        "    else:\n",
        "        return 0\n",
        "\n",
        "def hingeLossGradient(w, x, y):\n",
        "    margin = y*(w @ x)\n",
        "    if margin < 1:\n",
        "        return -y*x\n",
        "    else:\n",
        "        return 0\n",
        "\n",
        "def zeroOneLoss(w, x, y):\n",
        "    margin = y*(w @ x)\n",
        "    if margin < 0:\n",
        "        return 1\n",
        "    else:\n",
        "        return 0\n",
        "\n",
        "def logisticLoss(w, x, y):\n",
        "    odds = np.exp(x @ w)\n",
        "    p = odds/(odds+1)\n",
        "    if y > 0:\n",
        "        return -np.log(p)\n",
        "    else:\n",
        "        return -np.log(1-p)\n",
        "\n",
        "def logisticLossGradient(w, x, y):\n",
        "    odds = np.exp(x @ w)\n",
        "    p = odds/(odds+1)\n",
        "    if y > 0:\n",
        "        return -(1-p)*x\n",
        "    else:\n",
        "        return p*x"
      ],
      "metadata": {
        "id": "Qrr1CPf5SM_J"
      },
      "execution_count": null,
      "outputs": []
    },
    {
      "cell_type": "markdown",
      "source": [
        "### A General Purpose Stochastic Gradient Descent Function"
      ],
      "metadata": {
        "id": "MjI5Qe3GUvtq"
      }
    },
    {
      "cell_type": "code",
      "source": [
        "def stochasticDescent(X, y, n = 10**5, eta = 10**(-2), gradientFunc = hingeLossGradient):\n",
        "    w = np.zeros(len(X[0]))\n",
        "    R = 0.1 # regularization constant\n",
        "    batch_size = 5\n",
        "    indices = list(range(len(y)))\n",
        "    for k in range(n):\n",
        "        gradient = sum(gradientFunc(w,X[i],y[i]) for i in random.sample(indices,batch_size)) + R*np.sign(w)\n",
        "        w = w - eta*gradient\n",
        "    return w\n",
        "\n",
        "w = stochasticDescent(X,y)\n",
        "for i in range(len(w)):\n",
        "    print(([\"intercept\"]+input_variables)[i], \"%.4f\" % w[i])"
      ],
      "metadata": {
        "id": "UsZwO1EeTV94",
        "colab": {
          "base_uri": "https://localhost:8080/"
        },
        "outputId": "8b3d7e92-eb85-4495-a188-c5b7d82b36a5"
      },
      "execution_count": null,
      "outputs": [
        {
          "output_type": "stream",
          "name": "stdout",
          "text": [
            "intercept -1.0010\n",
            "to_multiple -0.0010\n",
            "cc -0.3130\n",
            "attach -0.0010\n",
            "dollar -0.0180\n",
            "winner -0.0000\n",
            "inherit 0.0010\n",
            "viagra -0.0000\n",
            "password -0.0070\n",
            "re_subj -0.0070\n",
            "exclaim_subj 0.0000\n"
          ]
        }
      ]
    },
    {
      "cell_type": "code",
      "source": [],
      "metadata": {
        "id": "BQCypoy9g54R"
      },
      "execution_count": null,
      "outputs": []
    }
  ]
}